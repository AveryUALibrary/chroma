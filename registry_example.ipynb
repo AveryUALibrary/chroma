{
 "cells": [
  {
   "cell_type": "code",
   "execution_count": 1,
   "metadata": {},
   "outputs": [],
   "source": [
    "import json\n",
    "from chromadb.utils.the_registry import _register\n",
    "from chromadb.utils.embedding_functions import ONNXMiniLM_L6_V2\n",
    "\n",
    "\n",
    "@_register\n",
    "class RegisterableEF:\n",
    "    config: str\n",
    "\n",
    "    def __init__(self, *args, **kwargs):\n",
    "        # Get the values of all arguments excluding self\n",
    "        args = locals()\n",
    "        args.pop(\"self\")\n",
    "\n",
    "        self.config = json.dumps(args)\n",
    "        self._ef = ONNXMiniLM_L6_V2()\n",
    "\n",
    "    def __call__(self, input):\n",
    "        return self._ef(input=input)"
   ]
  },
  {
   "cell_type": "code",
   "execution_count": 2,
   "metadata": {},
   "outputs": [
    {
     "data": {
      "text/plain": [
       "{'RegisterableEF': __main__.RegisterableEF}"
      ]
     },
     "execution_count": 2,
     "metadata": {},
     "output_type": "execute_result"
    }
   ],
   "source": [
    "from chromadb.utils.the_registry import _TheChromaObjectRegistry\n",
    "\n",
    "_TheChromaObjectRegistry._instance.registry\n"
   ]
  }
 ],
 "metadata": {
  "kernelspec": {
   "display_name": "chroma",
   "language": "python",
   "name": "python3"
  },
  "language_info": {
   "codemirror_mode": {
    "name": "ipython",
    "version": 3
   },
   "file_extension": ".py",
   "mimetype": "text/x-python",
   "name": "python",
   "nbconvert_exporter": "python",
   "pygments_lexer": "ipython3",
   "version": "3.12.2"
  }
 },
 "nbformat": 4,
 "nbformat_minor": 2
}
