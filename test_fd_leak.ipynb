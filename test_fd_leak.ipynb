{
 "cells": [
  {
   "metadata": {
    "ExecuteTime": {
     "end_time": "2024-04-11T10:36:57.487206Z",
     "start_time": "2024-04-11T10:36:39.538971Z"
    }
   },
   "cell_type": "code",
   "source": [
    "import os\n",
    "import random\n",
    "import threading\n",
    "from time import sleep\n",
    "import uuid\n",
    "from concurrent.futures import ThreadPoolExecutor\n",
    "from tenacity import retry, stop_after_attempt, wait_fixed\n",
    "import chromadb\n",
    "\n",
    "from chromadb.utils.embedding_functions import OpenAIEmbeddingFunction\n",
    "\n",
    "# chroma run --path\n",
    "\n",
    "client = chromadb.HttpClient()\n",
    "ef = OpenAIEmbeddingFunction(api_key=os.environ.get(\"OPENAI_API_KEY\"))\n",
    "col = client.get_or_create_collection('chroma-qna', embedding_function=ef)\n",
    "\n",
    "q = ef([\"Italian football\"])\n",
    "@retry(stop=stop_after_attempt(3),wait=wait_fixed(2))\n",
    "def query_docs(b):\n",
    "    for _ in range(1):\n",
    "        col.query(query_embeddings=q, n_results=2)\n",
    "        sleep(random.uniform(0.01, 1.0))\n",
    "\n",
    "def batch_generator(data, batch_size):\n",
    "    for i in range(0, len(data), batch_size):\n",
    "        yield data[i:i + batch_size]\n",
    "\n",
    "ids_documents = [(f\"{uuid.uuid4()}\", f\"document {i}\",[0.1]*1536) for i in range(10000)]\n",
    "\n",
    "with ThreadPoolExecutor(max_workers=30) as executor:\n",
    "    for batch in batch_generator(ids_documents, 10):\n",
    "        executor.submit(query_docs,batch)\n",
    "\n",
    "    \n"
   ],
   "id": "b49ab4044439f3cf",
   "outputs": [],
   "execution_count": 4
  },
  {
   "metadata": {
    "ExecuteTime": {
     "end_time": "2024-04-11T10:37:25.099451Z",
     "start_time": "2024-04-11T10:37:14.281033Z"
    }
   },
   "cell_type": "code",
   "source": [
    "with ThreadPoolExecutor(max_workers=50) as executor:\n",
    "    for batch in batch_generator(ids_documents, 10):\n",
    "        executor.submit(query_docs,batch)"
   ],
   "id": "4c43834ba2563bb8",
   "outputs": [],
   "execution_count": 5
  },
  {
   "metadata": {},
   "cell_type": "code",
   "outputs": [],
   "execution_count": null,
   "source": "",
   "id": "14fc64cbfc50679c"
  }
 ],
 "metadata": {
  "kernelspec": {
   "display_name": "Python 3",
   "language": "python",
   "name": "python3"
  },
  "language_info": {
   "codemirror_mode": {
    "name": "ipython",
    "version": 2
   },
   "file_extension": ".py",
   "mimetype": "text/x-python",
   "name": "python",
   "nbconvert_exporter": "python",
   "pygments_lexer": "ipython2",
   "version": "2.7.6"
  }
 },
 "nbformat": 4,
 "nbformat_minor": 5
}
